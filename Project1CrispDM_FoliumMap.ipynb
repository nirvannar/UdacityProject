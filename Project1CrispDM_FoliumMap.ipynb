{
 "cells": [
  {
   "cell_type": "code",
   "execution_count": 408,
   "id": "02f54759",
   "metadata": {},
   "outputs": [],
   "source": [
    "# Section 4 Evaluation\n",
    "# Question 1 How can I identify potential travel destinations for clients of volcano tourism."
   ]
  },
  {
   "cell_type": "code",
   "execution_count": 29,
   "id": "ab10b482",
   "metadata": {},
   "outputs": [
    {
     "name": "stdout",
     "output_type": "stream",
     "text": [
      "Requirement already satisfied: datapane in c:\\users\\nrampersad\\anaconda3\\lib\\site-packages (0.12.3)Note: you may need to restart the kernel to use updated packages.\n",
      "Requirement already satisfied: munch<3.0.0,>=2.3.0 in c:\\users\\nrampersad\\anaconda3\\lib\\site-packages (from datapane) (2.5.0)\n",
      "Requirement already satisfied: lxml<5.0.0,>=4.0.0 in c:\\users\\nrampersad\\anaconda3\\lib\\site-packages (from datapane) (4.6.3)\n",
      "Requirement already satisfied: vega-datasets<1.0.0,>=0.9.0 in c:\\users\\nrampersad\\anaconda3\\lib\\site-packages (from datapane) (0.9.0)\n",
      "Requirement already satisfied: chardet<5.0.0,>=3.0.4 in c:\\users\\nrampersad\\anaconda3\\lib\\site-packages (from datapane) (4.0.0)\n",
      "Requirement already satisfied: altair<5.0.0,>=4.0.0 in c:\\users\\nrampersad\\anaconda3\\lib\\site-packages (from datapane) (4.1.0)\n",
      "\n",
      "Requirement already satisfied: requests-toolbelt<0.10.0,>=0.9.1 in c:\\users\\nrampersad\\anaconda3\\lib\\site-packages (from datapane) (0.9.1)\n",
      "Requirement already satisfied: nbconvert<7.0.0,>=5.6.1 in c:\\users\\nrampersad\\anaconda3\\lib\\site-packages (from datapane) (6.0.7)\n",
      "Requirement already satisfied: pyarrow<6.0.0,>=3.0.0 in c:\\users\\nrampersad\\anaconda3\\lib\\site-packages (from datapane) (3.0.0)\n",
      "Requirement already satisfied: packaging<22.0.0,>=20.0.0 in c:\\users\\nrampersad\\anaconda3\\lib\\site-packages (from datapane) (20.9)\n",
      "Requirement already satisfied: dominate<3.0.0,>=2.4.0 in c:\\users\\nrampersad\\anaconda3\\lib\\site-packages (from datapane) (2.6.0)\n",
      "Requirement already satisfied: dacite<2.0.0,>=1.0.2 in c:\\users\\nrampersad\\anaconda3\\lib\\site-packages (from datapane) (1.6.0)\n",
      "Requirement already satisfied: requests<3.0.0,>=2.19.0 in c:\\users\\nrampersad\\anaconda3\\lib\\site-packages (from datapane) (2.25.1)\n",
      "Requirement already satisfied: toolz<0.12.0,>=0.11.0 in c:\\users\\nrampersad\\anaconda3\\lib\\site-packages (from datapane) (0.11.1)\n",
      "Requirement already satisfied: datacommons<2.0.0,>=1.4.3 in c:\\users\\nrampersad\\anaconda3\\lib\\site-packages (from datapane) (1.4.3)\n",
      "Requirement already satisfied: stringcase<2.0.0,>=1.2.0 in c:\\users\\nrampersad\\anaconda3\\lib\\site-packages (from datapane) (1.2.0)\n",
      "Requirement already satisfied: glom<21.0.0,>=20.5.0 in c:\\users\\nrampersad\\anaconda3\\lib\\site-packages (from datapane) (20.11.0)\n",
      "Requirement already satisfied: posthog<2.0.0,>=1.4.0 in c:\\users\\nrampersad\\anaconda3\\lib\\site-packages (from datapane) (1.4.2)\n",
      "Requirement already satisfied: click-spinner<0.2.0,>=0.1.8 in c:\\users\\nrampersad\\anaconda3\\lib\\site-packages (from datapane) (0.1.10)\n",
      "Requirement already satisfied: tabulate<0.9.0,>=0.8.0 in c:\\users\\nrampersad\\anaconda3\\lib\\site-packages (from datapane) (0.8.9)\n",
      "Requirement already satisfied: furl<3.0.0,>=2.0.0 in c:\\users\\nrampersad\\anaconda3\\lib\\site-packages (from datapane) (2.1.2)\n",
      "Requirement already satisfied: datacommons-pandas<0.0.4,>=0.0.3 in c:\\users\\nrampersad\\anaconda3\\lib\\site-packages (from datapane) (0.0.3)\n",
      "Requirement already satisfied: PyYAML<6.0.0,>=5.1.0 in c:\\users\\nrampersad\\anaconda3\\lib\\site-packages (from datapane) (5.4.1)\n",
      "Requirement already satisfied: colorlog<7.0.0,>=4.1.0 in c:\\users\\nrampersad\\anaconda3\\lib\\site-packages (from datapane) (4.8.0)\n",
      "Requirement already satisfied: pandas<2.0.0,>=1.1.0 in c:\\users\\nrampersad\\anaconda3\\lib\\site-packages (from datapane) (1.2.4)\n",
      "Requirement already satisfied: importlib_resources<6.0.0,>=3.0.0 in c:\\users\\nrampersad\\anaconda3\\lib\\site-packages (from datapane) (5.2.1)\n",
      "Requirement already satisfied: jsonschema<4.0.0,>=3.0.0 in c:\\users\\nrampersad\\anaconda3\\lib\\site-packages (from datapane) (3.2.0)\n",
      "Requirement already satisfied: micawber>=0.5.0 in c:\\users\\nrampersad\\anaconda3\\lib\\site-packages (from datapane) (0.5.4)\n",
      "Requirement already satisfied: Jinja2<4.0.0,>=2.11.0 in c:\\users\\nrampersad\\anaconda3\\lib\\site-packages (from datapane) (2.11.3)\n",
      "Requirement already satisfied: click<9.0.0,>=7.1.0 in c:\\users\\nrampersad\\anaconda3\\lib\\site-packages (from datapane) (7.1.2)\n",
      "Requirement already satisfied: pydantic<2.0.0,>=1.6.0 in c:\\users\\nrampersad\\anaconda3\\lib\\site-packages (from datapane) (1.8.2)\n",
      "Requirement already satisfied: boltons<22.0.0,>=20.0.0 in c:\\users\\nrampersad\\anaconda3\\lib\\site-packages (from datapane) (21.0.0)\n",
      "Requirement already satisfied: validators<0.19.0,>=0.18.0 in c:\\users\\nrampersad\\anaconda3\\lib\\site-packages (from datapane) (0.18.2)\n",
      "Requirement already satisfied: numpy in c:\\users\\nrampersad\\anaconda3\\lib\\site-packages (from altair<5.0.0,>=4.0.0->datapane) (1.20.1)\n",
      "Requirement already satisfied: entrypoints in c:\\users\\nrampersad\\anaconda3\\lib\\site-packages (from altair<5.0.0,>=4.0.0->datapane) (0.3)\n",
      "Requirement already satisfied: colorama in c:\\users\\nrampersad\\anaconda3\\lib\\site-packages (from colorlog<7.0.0,>=4.1.0->datapane) (0.4.4)\n",
      "Requirement already satisfied: six in c:\\users\\nrampersad\\anaconda3\\lib\\site-packages (from datacommons<2.0.0,>=1.4.3->datapane) (1.15.0)\n",
      "Requirement already satisfied: orderedmultidict>=1.0.1 in c:\\users\\nrampersad\\anaconda3\\lib\\site-packages (from furl<3.0.0,>=2.0.0->datapane) (1.0.1)\n",
      "Requirement already satisfied: face>=20.1.0 in c:\\users\\nrampersad\\anaconda3\\lib\\site-packages (from glom<21.0.0,>=20.5.0->datapane) (20.1.1)\n",
      "Requirement already satisfied: attrs in c:\\users\\nrampersad\\anaconda3\\lib\\site-packages (from glom<21.0.0,>=20.5.0->datapane) (20.3.0)\n",
      "Requirement already satisfied: zipp>=3.1.0 in c:\\users\\nrampersad\\anaconda3\\lib\\site-packages (from importlib_resources<6.0.0,>=3.0.0->datapane) (3.4.1)\n",
      "Requirement already satisfied: MarkupSafe>=0.23 in c:\\users\\nrampersad\\anaconda3\\lib\\site-packages (from Jinja2<4.0.0,>=2.11.0->datapane) (1.1.1)\n",
      "Requirement already satisfied: pyrsistent>=0.14.0 in c:\\users\\nrampersad\\anaconda3\\lib\\site-packages (from jsonschema<4.0.0,>=3.0.0->datapane) (0.17.3)\n",
      "Requirement already satisfied: setuptools in c:\\users\\nrampersad\\anaconda3\\lib\\site-packages (from jsonschema<4.0.0,>=3.0.0->datapane) (52.0.0.post20210125)\n",
      "Requirement already satisfied: bleach in c:\\users\\nrampersad\\anaconda3\\lib\\site-packages (from nbconvert<7.0.0,>=5.6.1->datapane) (3.3.0)\n",
      "Requirement already satisfied: jupyter-core in c:\\users\\nrampersad\\anaconda3\\lib\\site-packages (from nbconvert<7.0.0,>=5.6.1->datapane) (4.7.1)\n",
      "Requirement already satisfied: nbformat>=4.4 in c:\\users\\nrampersad\\anaconda3\\lib\\site-packages (from nbconvert<7.0.0,>=5.6.1->datapane) (5.1.3)\n",
      "Requirement already satisfied: testpath in c:\\users\\nrampersad\\anaconda3\\lib\\site-packages (from nbconvert<7.0.0,>=5.6.1->datapane) (0.4.4)\n",
      "Requirement already satisfied: jupyterlab-pygments in c:\\users\\nrampersad\\anaconda3\\lib\\site-packages (from nbconvert<7.0.0,>=5.6.1->datapane) (0.1.2)\n",
      "Requirement already satisfied: nbclient<0.6.0,>=0.5.0 in c:\\users\\nrampersad\\anaconda3\\lib\\site-packages (from nbconvert<7.0.0,>=5.6.1->datapane) (0.5.3)\n",
      "Requirement already satisfied: mistune<2,>=0.8.1 in c:\\users\\nrampersad\\anaconda3\\lib\\site-packages (from nbconvert<7.0.0,>=5.6.1->datapane) (0.8.4)\n",
      "Requirement already satisfied: defusedxml in c:\\users\\nrampersad\\anaconda3\\lib\\site-packages (from nbconvert<7.0.0,>=5.6.1->datapane) (0.7.1)\n",
      "Requirement already satisfied: traitlets>=4.2 in c:\\users\\nrampersad\\anaconda3\\lib\\site-packages (from nbconvert<7.0.0,>=5.6.1->datapane) (5.0.5)\n",
      "Requirement already satisfied: pandocfilters>=1.4.1 in c:\\users\\nrampersad\\anaconda3\\lib\\site-packages (from nbconvert<7.0.0,>=5.6.1->datapane) (1.4.3)\n",
      "Requirement already satisfied: pygments>=2.4.1 in c:\\users\\nrampersad\\anaconda3\\lib\\site-packages (from nbconvert<7.0.0,>=5.6.1->datapane) (2.8.1)\n",
      "Requirement already satisfied: nest-asyncio in c:\\users\\nrampersad\\anaconda3\\lib\\site-packages (from nbclient<0.6.0,>=0.5.0->nbconvert<7.0.0,>=5.6.1->datapane) (1.5.1)\n",
      "Requirement already satisfied: async-generator in c:\\users\\nrampersad\\anaconda3\\lib\\site-packages (from nbclient<0.6.0,>=0.5.0->nbconvert<7.0.0,>=5.6.1->datapane) (1.10)\n",
      "Requirement already satisfied: jupyter-client>=6.1.5 in c:\\users\\nrampersad\\anaconda3\\lib\\site-packages (from nbclient<0.6.0,>=0.5.0->nbconvert<7.0.0,>=5.6.1->datapane) (6.1.12)\n",
      "Requirement already satisfied: python-dateutil>=2.1 in c:\\users\\nrampersad\\anaconda3\\lib\\site-packages (from jupyter-client>=6.1.5->nbclient<0.6.0,>=0.5.0->nbconvert<7.0.0,>=5.6.1->datapane) (2.8.1)\n",
      "Requirement already satisfied: tornado>=4.1 in c:\\users\\nrampersad\\anaconda3\\lib\\site-packages (from jupyter-client>=6.1.5->nbclient<0.6.0,>=0.5.0->nbconvert<7.0.0,>=5.6.1->datapane) (6.1)\n",
      "Requirement already satisfied: pyzmq>=13 in c:\\users\\nrampersad\\anaconda3\\lib\\site-packages (from jupyter-client>=6.1.5->nbclient<0.6.0,>=0.5.0->nbconvert<7.0.0,>=5.6.1->datapane) (20.0.0)\n",
      "Requirement already satisfied: pywin32>=1.0 in c:\\users\\nrampersad\\anaconda3\\lib\\site-packages (from jupyter-core->nbconvert<7.0.0,>=5.6.1->datapane) (227)\n",
      "Requirement already satisfied: ipython-genutils in c:\\users\\nrampersad\\anaconda3\\lib\\site-packages (from nbformat>=4.4->nbconvert<7.0.0,>=5.6.1->datapane) (0.2.0)\n",
      "Requirement already satisfied: pyparsing>=2.0.2 in c:\\users\\nrampersad\\anaconda3\\lib\\site-packages (from packaging<22.0.0,>=20.0.0->datapane) (2.4.7)\n",
      "Requirement already satisfied: pytz>=2017.3 in c:\\users\\nrampersad\\anaconda3\\lib\\site-packages (from pandas<2.0.0,>=1.1.0->datapane) (2021.1)\n",
      "Requirement already satisfied: backoff<2.0.0,>=1.10.0 in c:\\users\\nrampersad\\anaconda3\\lib\\site-packages (from posthog<2.0.0,>=1.4.0->datapane) (1.11.1)\n",
      "Requirement already satisfied: monotonic>=1.5 in c:\\users\\nrampersad\\anaconda3\\lib\\site-packages (from posthog<2.0.0,>=1.4.0->datapane) (1.6)\n",
      "Requirement already satisfied: typing-extensions>=3.7.4.3 in c:\\users\\nrampersad\\anaconda3\\lib\\site-packages (from pydantic<2.0.0,>=1.6.0->datapane) (3.7.4.3)\n",
      "Requirement already satisfied: urllib3<1.27,>=1.21.1 in c:\\users\\nrampersad\\anaconda3\\lib\\site-packages (from requests<3.0.0,>=2.19.0->datapane) (1.26.4)\n",
      "Requirement already satisfied: certifi>=2017.4.17 in c:\\users\\nrampersad\\anaconda3\\lib\\site-packages (from requests<3.0.0,>=2.19.0->datapane) (2020.12.5)\n",
      "Requirement already satisfied: idna<3,>=2.5 in c:\\users\\nrampersad\\anaconda3\\lib\\site-packages (from requests<3.0.0,>=2.19.0->datapane) (2.10)\n",
      "Requirement already satisfied: decorator>=3.4.0 in c:\\users\\nrampersad\\anaconda3\\lib\\site-packages (from validators<0.19.0,>=0.18.0->datapane) (5.0.6)\n",
      "Requirement already satisfied: webencodings in c:\\users\\nrampersad\\anaconda3\\lib\\site-packages (from bleach->nbconvert<7.0.0,>=5.6.1->datapane) (0.5.1)\n"
     ]
    }
   ],
   "source": [
    "pip install -U datapane"
   ]
  },
  {
   "cell_type": "code",
   "execution_count": null,
   "id": "af214d3c",
   "metadata": {
    "scrolled": true
   },
   "outputs": [],
   "source": [
    "# add marker one by one on the map to indicate location of Holocene Volcanoes\n",
    "import pandas as pd\n",
    "import folium\n",
    "\n",
    "import datapane as dp\n",
    "\n",
    "dp.login(token='627d7678b242daf7ecba23b579eab5e6754290b8')\n",
    "\n",
    "\n",
    "df = pd.read_csv('https://raw.githubusercontent.com/nirvannar/UdacityProject/main/GVP_Volcano_List_Holocene1.csv',encoding='latin-1')\n",
    "\n",
    "m = folium.Map(location=[-26.1366728, 28.2411459], tiles=\"OpenStreetMap\", zoom_start=3)\n",
    "\n",
    "\n",
    "#for i in range(0,len(data)):\n",
    "for index, row in df.iterrows():\n",
    "    icon_path = r\"C:/Users/nrampersad/Downloads/noun_Volcano_1708.png\"\n",
    "    icon = folium.features.CustomIcon(icon_image=icon_path ,icon_size=(20,20))\n",
    "    folium.Marker(\n",
    "              #location=[data.iloc[i]['lat'], data.iloc[i]['lon']],\n",
    "              #popup=data.iloc[i]['name'],\n",
    "              [row['Latitude'], row['Longitude']], \n",
    "                  popup=row['Volcano Name'],\n",
    "              icon=icon\n",
    "              ).add_to(m)\n",
    "\n",
    "# Show the map again\n",
    "dp.Report(dp.Plot(m)).upload(name='folium_map')\n",
    "m"
   ]
  },
  {
   "cell_type": "code",
   "execution_count": 5,
   "id": "40cd6ff8",
   "metadata": {},
   "outputs": [
    {
     "data": {
      "text/markdown": [
       "Uploading report and associated data - *please wait...*"
      ],
      "text/plain": [
       "<IPython.core.display.Markdown object>"
      ]
     },
     "metadata": {},
     "output_type": "display_data"
    },
    {
     "data": {
      "text/markdown": [
       "Your report only contains a single element - did you know you can include additional plots, tables and text in a single report? Check out [the docs](https://docs.datapane.com/reports/blocks/layout-pages-and-selects) for more info"
      ],
      "text/plain": [
       "<IPython.core.display.Markdown object>"
      ]
     },
     "metadata": {},
     "output_type": "display_data"
    },
    {
     "data": {
      "text/markdown": [
       "Report successfully uploaded, click [here](https://datapane.com/u/nirvannar/reports/MA1pO1k/volcano-data/) to view and share your report."
      ],
      "text/plain": [
       "<IPython.core.display.Markdown object>"
      ]
     },
     "metadata": {},
     "output_type": "display_data"
    }
   ],
   "source": [
    "import datapane as dp #Interactive data table in Medium\n",
    "\n",
    "df = pd.read_csv('https://raw.githubusercontent.com/nirvannar/UdacityProject/main/GVP_Volcano_List_Holocene1.csv',encoding='latin-1')\n",
    "\n",
    "table = dp.DataTable(df)\n",
    "report = dp.Report(table)\n",
    "report.upload(name='Volcano data')"
   ]
  },
  {
   "cell_type": "code",
   "execution_count": null,
   "id": "62d1a0a5",
   "metadata": {},
   "outputs": [],
   "source": []
  }
 ],
 "metadata": {
  "kernelspec": {
   "display_name": "Python 3",
   "language": "python",
   "name": "python3"
  },
  "language_info": {
   "codemirror_mode": {
    "name": "ipython",
    "version": 3
   },
   "file_extension": ".py",
   "mimetype": "text/x-python",
   "name": "python",
   "nbconvert_exporter": "python",
   "pygments_lexer": "ipython3",
   "version": "3.8.8"
  }
 },
 "nbformat": 4,
 "nbformat_minor": 5
}
