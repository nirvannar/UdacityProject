{
 "cells": [
  {
   "cell_type": "code",
   "execution_count": null,
   "id": "6f4d2035",
   "metadata": {},
   "outputs": [],
   "source": [
    "import numpy as np\n",
    "import pandas as pd\n",
    "import matplotlib.pyplot as plt\n",
    "import seaborn as sns\n",
    "%matplotlib inline\n",
    "\n",
    "\n",
    "df = pd.read_csv('https://raw.githubusercontent.com/nirvannar/UdacityProject/main/GVP_Volcano_List_Holocene1.csv',encoding='latin-1')\n"
   ]
  },
  {
   "cell_type": "code",
   "execution_count": null,
   "id": "846dce2d",
   "metadata": {},
   "outputs": [],
   "source": [
    "df.head() # Explore the first few rows of the dataset"
   ]
  },
  {
   "cell_type": "code",
   "execution_count": null,
   "id": "aa106055",
   "metadata": {},
   "outputs": [],
   "source": [
    "df.describe() # Summary statistics associated with the quantitative variables\n"
   ]
  },
  {
   "cell_type": "code",
   "execution_count": null,
   "id": "1fae24f6",
   "metadata": {},
   "outputs": [],
   "source": [
    "df.isnull().any() # Check for columns with blanks by calculating the number of null values"
   ]
  },
  {
   "cell_type": "code",
   "execution_count": null,
   "id": "40cd6ff8",
   "metadata": {},
   "outputs": [],
   "source": [
    "import datapane as dp #Interactive data table in Medium\n",
    "\n",
    "df = pd.read_csv('https://raw.githubusercontent.com/nirvannar/UdacityProject/main/GVP_Volcano_List_Holocene1.csv',encoding='latin-1')\n",
    "\n",
    "table = dp.DataTable(df)\n",
    "report = dp.Report(table)\n",
    "report.upload(name='Volcano data')"
   ]
  },
  {
   "cell_type": "code",
   "execution_count": null,
   "id": "1c08e7b4",
   "metadata": {},
   "outputs": [],
   "source": [
    "df.hist();"
   ]
  },
  {
   "cell_type": "code",
   "execution_count": null,
   "id": "f420c5a1",
   "metadata": {},
   "outputs": [],
   "source": [
    "sns.pairplot(df)"
   ]
  },
  {
   "cell_type": "code",
   "execution_count": null,
   "id": "b84d7b2c",
   "metadata": {},
   "outputs": [],
   "source": [
    "plt.figure(figsize=(12,6))\n",
    "sns.heatmap(df.corr(), annot=True)"
   ]
  },
  {
   "cell_type": "code",
   "execution_count": null,
   "id": "f0ff198a",
   "metadata": {},
   "outputs": [],
   "source": [
    "print(df[df['Elevation (m)']==df['Elevation (m)'].max()]) # Highest Volcano"
   ]
  },
  {
   "cell_type": "code",
   "execution_count": null,
   "id": "cc051f87",
   "metadata": {},
   "outputs": [],
   "source": [
    "df[df['Elevation (m)']==df['Elevation (m)'].max()] # Highest Volcano"
   ]
  },
  {
   "cell_type": "code",
   "execution_count": null,
   "id": "3ba23105",
   "metadata": {},
   "outputs": [],
   "source": [
    "df['Country'].value_counts(normalize=True) # Most volcanoes per country"
   ]
  },
  {
   "cell_type": "code",
   "execution_count": null,
   "id": "f000bfc0",
   "metadata": {},
   "outputs": [],
   "source": [
    "df['Primary Volcano Type'].value_counts(normalize=True) # Volcano Types in descending order"
   ]
  },
  {
   "cell_type": "code",
   "execution_count": null,
   "id": "fdd08599",
   "metadata": {},
   "outputs": [],
   "source": [
    "df['Region'].value_counts(normalize=True) # Most volcanoes per region"
   ]
  },
  {
   "cell_type": "code",
   "execution_count": null,
   "id": "c657c81a",
   "metadata": {},
   "outputs": [],
   "source": [
    "df['Last Known Eruption'].value_counts() # Eruptions per year observed in descending order\n"
   ]
  },
  {
   "cell_type": "code",
   "execution_count": null,
   "id": "3edbb645",
   "metadata": {},
   "outputs": [],
   "source": [
    "pip install wordcloud"
   ]
  },
  {
   "cell_type": "code",
   "execution_count": null,
   "id": "d1868148",
   "metadata": {},
   "outputs": [],
   "source": [
    "from wordcloud import WordCloud\n",
    "\n",
    "text= ' '\n",
    "for s, row in df.iterrows():\n",
    "    text = \" \".join([text,\"\".join(row['Country'].strip().split(\" \"))])\n",
    "    \n",
    "text = text.strip()\n",
    "\n",
    "\n",
    "\n",
    "plt.figure(figsize=(12,6))\n",
    "wordcloud = WordCloud(width=600, height=300, max_font_size=70, max_words=20, collocations=False).generate(text)\n",
    "wordcloud.recolor(random_state=0)\n",
    "plt.imshow(wordcloud, interpolation='bilinear')\n",
    "plt.title(\"Top 20 Countries with most volcanic eruptions\", fontsize=30)\n",
    "plt.axis(\"off\")\n",
    "plt.show()\n",
    "wordcloud.to_file('wordcloud.png')\n",
    "\n",
    "image = dp.File(file='wordcloud.png')\n",
    "dp.Report(image).upload(name='Country',\n",
    "                        description='Top 20 Countries with most volcanic eruptions')"
   ]
  },
  {
   "cell_type": "code",
   "execution_count": null,
   "id": "47c8c173",
   "metadata": {},
   "outputs": [],
   "source": [
    "targets = df.loc[df['Last Known Eruption'] == \"2021 CE\", ['Volcano Name']] #Volcanoes active this year\n",
    "print(targets)\n"
   ]
  },
  {
   "cell_type": "code",
   "execution_count": null,
   "id": "05a1cae2",
   "metadata": {},
   "outputs": [],
   "source": [
    "# Closest Volcano to Johannesburg\n",
    "\n",
    "from math import radians, cos, sin, asin, sqrt\n",
    "def dist(Longitude1,Latitude1,Longitude2,Latitude2 ):\n",
    "   \n",
    "    # convert decimal degrees to radians \n",
    "    Longitude1,Latitude1, Longitude2,Latitude2  = map(radians, [Longitude1, Latitude1,Longitude2,Latitude2])\n",
    "    # haversine formula \n",
    "    dlon = Longitude2 - Longitude1  \n",
    "    dlat = Latitude2 - Latitude1 \n",
    "    a = sin(dlat/2)**2 + cos(Latitude1) * cos(Latitude2) * sin(dlon/2)**2\n",
    "    c = 2 * asin(sqrt(a)) \n",
    "    # Radius of earth in kilometers is 6371\n",
    "    km = 6371* c\n",
    "    return km\n",
    "\n",
    "df['distance'] = [dist(df.Longitude[i],df.Latitude[i], 28.2411459,-26.1366728) \n",
    "                  for i in range(len(df))]\n",
    "df['distance'] = df['distance'].round(decimals=3)\n",
    "\n",
    "df.head(296)\n",
    "\n",
    "print(df[df['distance']==df['distance'].min()])\n"
   ]
  },
  {
   "cell_type": "code",
   "execution_count": null,
   "id": "921b2b37",
   "metadata": {},
   "outputs": [],
   "source": [
    "df.head() # Check if column for distance is appended"
   ]
  },
  {
   "cell_type": "code",
   "execution_count": null,
   "id": "f525689d",
   "metadata": {},
   "outputs": [],
   "source": [
    "df.loc[(df['Last Known Eruption'] == \"2021 CE\") & (df['distance'] <3000)] #Active volcanoes within 3000km radius of Jhb"
   ]
  },
  {
   "cell_type": "code",
   "execution_count": null,
   "id": "ab10b482",
   "metadata": {},
   "outputs": [],
   "source": [
    "pip install -U datapane"
   ]
  },
  {
   "cell_type": "code",
   "execution_count": null,
   "id": "af214d3c",
   "metadata": {},
   "outputs": [],
   "source": [
    "# add marker one by one on the map to indicate location of Holocene Volcanoes\n",
    "import pandas as pd\n",
    "import folium\n",
    "\n",
    "import datapane as dp\n",
    "\n",
    "dp.login(token='627d7678b242daf7ecba23b579eab5e6754290b8')\n",
    "\n",
    "\n",
    "df = pd.read_csv('https://raw.githubusercontent.com/nirvannar/UdacityProject/main/GVP_Volcano_List_Holocene1.csv',encoding='latin-1')\n",
    "\n",
    "m = folium.Map(location=[-26.1366728, 28.2411459], tiles=\"OpenStreetMap\", zoom_start=3)\n",
    "\n",
    "\n",
    "#for i in range(0,len(data)):\n",
    "for index, row in df.iterrows():\n",
    "    icon_path = r\"C:/Users/nrampersad/Downloads/noun_Volcano_1708.png\"\n",
    "    icon = folium.features.CustomIcon(icon_image=icon_path ,icon_size=(20,20))\n",
    "    folium.Marker(\n",
    "              #location=[data.iloc[i]['lat'], data.iloc[i]['lon']],\n",
    "              #popup=data.iloc[i]['name'],\n",
    "              [row['Latitude'], row['Longitude']], \n",
    "                  popup=row['Volcano Name'],\n",
    "              icon=icon\n",
    "              ).add_to(m)\n",
    "\n",
    "# Show the map again\n",
    "dp.Report(dp.Plot(m)).upload(name='folium_map')\n",
    "m"
   ]
  },
  {
   "cell_type": "code",
   "execution_count": null,
   "id": "8832cfb0",
   "metadata": {},
   "outputs": [],
   "source": []
  },
  {
   "cell_type": "code",
   "execution_count": null,
   "id": "62d1a0a5",
   "metadata": {},
   "outputs": [],
   "source": []
  }
 ],
 "metadata": {
  "kernelspec": {
   "display_name": "Python 3",
   "language": "python",
   "name": "python3"
  },
  "language_info": {
   "codemirror_mode": {
    "name": "ipython",
    "version": 3
   },
   "file_extension": ".py",
   "mimetype": "text/x-python",
   "name": "python",
   "nbconvert_exporter": "python",
   "pygments_lexer": "ipython3",
   "version": "3.8.8"
  }
 },
 "nbformat": 4,
 "nbformat_minor": 5
}
